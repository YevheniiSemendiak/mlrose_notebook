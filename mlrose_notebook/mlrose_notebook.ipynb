{
 "cells": [
  {
   "cell_type": "markdown",
   "metadata": {},
   "source": [
    "# In this draft script I will try to build a optimization workers with homogeneous interfaces\n",
    "___\n",
    "\n",
    "### It has built on top of [mlrose](https://github.com/gkhayes/mlrose) package\n",
    "\n"
   ]
  },
  {
   "cell_type": "code",
   "execution_count": 115,
   "metadata": {
    "scrolled": true
   },
   "outputs": [],
   "source": [
    "import mlrose\n",
    "import numpy as np\n",
    "import logging\n",
    "import tsplib95\n",
    "# import pandas as pd\n",
    "RANDOM_SEED = 1\n",
    "\n",
    "np.random.seed(seed=RANDOM_SEED)"
   ]
  },
  {
   "cell_type": "markdown",
   "metadata": {},
   "source": [
    "### Function for generating the problem.\n",
    "##### NOTE: The function should return the instance of initialized mlrose problem.\n",
    "This part of notebook will be enhanced with adding other problem instances"
   ]
  },
  {
   "cell_type": "code",
   "execution_count": 117,
   "metadata": {},
   "outputs": [],
   "source": [
    "def GenerteNQueensProblem(n: int = 8):\n",
    "    problem = mlrose.DiscreteOpt(length=n, fitness_fn=mlrose.Queens(), maximize=False, max_val=n)\n",
    "    return problem\n",
    "\n",
    "def GenerateTSPProblem(instance_name: str=\"a280.tsp\"):\n",
    "    tsplib_problem = tsplib95.load_problem(\"TSPProblems/\" + instance_name if not '/' == instance_name[0] else instance_name)\n",
    "    cities_coordinates = list(tsplib_problem.node_coords.values())\n",
    "    \n",
    "    problem = mlrose.TSPOpt(length=tsplib_problem.dimension, coords=cities_coordinates, maximize=False)\n",
    "    return problem\n",
    "    "
   ]
  },
  {
   "cell_type": "markdown",
   "metadata": {},
   "source": [
    "#### Simulated annealing"
   ]
  },
  {
   "cell_type": "code",
   "execution_count": 118,
   "metadata": {},
   "outputs": [],
   "source": [
    "def RunSASolver(problem, init_state, budget, mh_parameters):\n",
    "    assert \"schedule\" in mh_parameters.keys()\n",
    "    assert \"max_attempts\" in mh_parameters.keys()\n",
    "    \n",
    "    best_state, best_fitness = mlrose.simulated_annealing(problem,\n",
    "                                                          max_iters=budget,\n",
    "                                                          init_state=init_state,\n",
    "                                                          random_state=RANDOM_SEED,\n",
    "                                                          **mh_parameters)\n",
    "    return best_state, best_fitness"
   ]
  },
  {
   "cell_type": "markdown",
   "metadata": {},
   "source": [
    "#### Stohastic hill climbing"
   ]
  },
  {
   "cell_type": "code",
   "execution_count": 119,
   "metadata": {},
   "outputs": [],
   "source": [
    "def RunSCH(problem, init_state, budget, mh_parameters):\n",
    "    results = mlrose.random_hill_climb(problem,\n",
    "                                       init_state=init_state,\n",
    "                                       restarts=budget,\n",
    "                                       random_state=RANDOM_SEED,\n",
    "                                       **mh_parameters)\n",
    "    return results"
   ]
  },
  {
   "cell_type": "markdown",
   "metadata": {},
   "source": [
    "#### Genetic algorithm"
   ]
  },
  {
   "cell_type": "code",
   "execution_count": 120,
   "metadata": {},
   "outputs": [],
   "source": [
    "def RunGA(problem, init_state, budget, mh_parameters):\n",
    "    best_state, best_fitness = mlrose.genetic_alg(problem,\n",
    "                                                  max_iters=budget,\n",
    "                                                  random_state=RANDOM_SEED,\n",
    "                                                  **mh_parameters)\n",
    "    return best_state, best_fitness"
   ]
  },
  {
   "cell_type": "markdown",
   "metadata": {},
   "source": [
    "#### Running the algorithms\n",
    "Just for testing purposes."
   ]
  },
  {
   "cell_type": "code",
   "execution_count": 123,
   "metadata": {
    "scrolled": false
   },
   "outputs": [
    {
     "name": "stdout",
     "output_type": "stream",
     "text": [
      "RunGA:0, solution: [ 8 11 15  7 11  4 15  0 10 14  2  2 16 13 17  5  3  1 17], fitness: 8.0.\n",
      "problem reset\n",
      "RunGA:0, solution: [75 28 34 59 91 87 21  7 52  4 29 36 16 71 55 26 46 77 79 48 89 56 67 24\n",
      " 92 95 39 53 27 13 49 20 74 62 45 42 68 10 15 88 69 37 78 12 51 72 47 99\n",
      " 11 22 94 70 61 23 43 63 85 35 18 93  0 96 81 32 50 58 41 90 98 17 38  6\n",
      " 73  9 30 60 66 19 86  2 44 83  5  8 84 57 76 14 31 40  1 82 25 65 97  3\n",
      " 80 54 33 64], fitness: 138584.63306358282.\n",
      "problem reset\n"
     ]
    }
   ],
   "source": [
    "sa_mh_parameters = {\n",
    "    'schedule': mlrose.GeomDecay(),\n",
    "    'max_attempts': 1000,\n",
    "}\n",
    "sch_mh_parameters = {\n",
    "    'max_attempts': 100\n",
    "}\n",
    "gen_mh_parameters = {'mutation_prob': 0.3, 'max_attempts': 30}\n",
    "\n",
    "n_queen_problem = GenerteNQueensProblem(19)\n",
    "tsp_problem = GenerateTSPProblem('/media/sem/B54BE5B22C0D3FA8/TUD/Master/metaheuristics_library/TSPProblems/kroA100.tsp')\n",
    "\n",
    "\n",
    "budget = 30000\n",
    "iterations = 1\n",
    "\n",
    "for problem in (n_queen_problem, tsp_problem):\n",
    "    for mh, params in zip((\n",
    "         RunSASolver, \n",
    "         RunSCH, \n",
    "        RunGA,\n",
    "    ), (\n",
    "         sa_mh_parameters, \n",
    "         sch_mh_parameters, \n",
    "        gen_mh_parameters,\n",
    "    )):\n",
    "        init_state = np.array(list(range(19 if type(problem) == mlrose.DiscreteOpt else 280)))\n",
    "        for iteration in range(iterations):\n",
    "            solution, solution_fitness = mh(problem, init_state, budget=budget // iterations, mh_parameters=params)\n",
    "            print(\"%s:%s, solution: %s, fitness: %s.\" % (mh.__name__, iteration, solution, solution_fitness))\n",
    "            init_state = solution\n",
    "        problem.reset()\n",
    "        print(\"problem reset\")\n"
   ]
  },
  {
   "cell_type": "code",
   "execution_count": 100,
   "metadata": {},
   "outputs": [
    {
     "name": "stdout",
     "output_type": "stream",
     "text": [
      "30848.87087287119\n",
      "2586.7696475631606\n"
     ]
    }
   ],
   "source": [
    "optimal = [0, 1, 241, 242, 243, 240, 239, 238, 237, 236, 235, 234, 233, 232, 231, 230, 245, 244, 246, 249, 250, 229, 228, 227, 226, 225, 224, 223, 222, 221, 220, 219, 218, 217, 216, 215, 214, 213, 212, 211, 210, 209, 206, 205, 204, 203, 202, 201, 200, 197, 196, 195, 194, 193, 192, 191, 190, 189, 188, 187, 186, 185, 184, 183, 182, 181, 180, 175, 179, 178, 149, 177, 176, 150, 151, 155, 152, 154, 153, 128, 129, 130, 19, 20, 127, 126, 125, 124, 123, 122, 121, 120, 119, 118, 156, 157, 158, 159, 174, 160, 161, 162, 163, 164, 165, 166, 167, 168, 169, 171, 170, 172, 173, 106, 105, 104, 103, 102, 101, 100, 99, 98, 97, 96, 95, 94, 93, 92, 91, 90, 89, 88, 108, 107, 109, 110, 111, 87, 86, 112, 113, 114, 116, 115, 85, 84, 83, 82, 81, 80, 79, 78, 77, 76, 75, 74, 73, 72, 71, 70, 69, 68, 67, 66, 65, 64, 63, 57, 56, 55, 54, 53, 52, 51, 50, 49, 48, 47, 46, 45, 44, 43, 58, 62, 61, 117, 60, 59, 42, 41, 40, 39, 38, 37, 36, 35, 34, 33, 32, 31, 30, 29, 28, 27, 26, 25, 21, 24, 22, 23, 13, 14, 12, 11, 10, 9, 8, 7, 6, 5, 4, 3, 276, 275, 274, 273, 272, 271, 270, 15, 16, 17, 18, 131, 132, 133, 269, 268, 134, 135, 267, 266, 136, 137, 138, 148, 147, 146, 145, 144, 198, 199, 143, 142, 141, 140, 139, 265, 264, 263, 262, 261, 260, 259, 258, 257, 256, 253, 252, 207, 208, 251, 254, 255, 248, 247, 277, 278, 2, 279]\n",
    "print(solution_result)\n",
    "print(problem.fitness_fn.evaluate(optimal))"
   ]
  },
  {
   "cell_type": "code",
   "execution_count": null,
   "metadata": {},
   "outputs": [],
   "source": []
  }
 ],
 "metadata": {
  "kernelspec": {
   "display_name": "Python 3",
   "language": "python",
   "name": "python3"
  },
  "language_info": {
   "codemirror_mode": {
    "name": "ipython",
    "version": 3
   },
   "file_extension": ".py",
   "mimetype": "text/x-python",
   "name": "python",
   "nbconvert_exporter": "python",
   "pygments_lexer": "ipython3",
   "version": "3.7.4"
  }
 },
 "nbformat": 4,
 "nbformat_minor": 2
}
